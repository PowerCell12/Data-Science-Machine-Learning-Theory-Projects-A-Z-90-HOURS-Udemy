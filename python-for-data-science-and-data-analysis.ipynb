{
 "cells": [
  {
   "cell_type": "code",
   "execution_count": 1,
   "metadata": {
    "execution": {
     "iopub.execute_input": "2025-08-14T22:01:29.628733Z",
     "iopub.status.busy": "2025-08-14T22:01:29.628034Z",
     "iopub.status.idle": "2025-08-14T22:01:29.633344Z",
     "shell.execute_reply": "2025-08-14T22:01:29.632420Z",
     "shell.execute_reply.started": "2025-08-14T22:01:29.628698Z"
    },
    "trusted": true
   },
   "outputs": [],
   "source": [
    "import numpy as np\n",
    "import numpy.linalg as la ## used for linear algebra things like inverse matrix, etc."
   ]
  },
  {
   "cell_type": "code",
   "execution_count": 2,
   "metadata": {
    "execution": {
     "iopub.execute_input": "2025-08-14T22:01:29.635725Z",
     "iopub.status.busy": "2025-08-14T22:01:29.634968Z",
     "iopub.status.idle": "2025-08-14T22:01:29.640272Z",
     "shell.execute_reply": "2025-08-14T22:01:29.639025Z",
     "shell.execute_reply.started": "2025-08-14T22:01:29.635693Z"
    },
    "trusted": true
   },
   "outputs": [],
   "source": [
    "a = np.array([[1,2], [3,4]], dtype=\"i\") "
   ]
  },
  {
   "cell_type": "code",
   "execution_count": 3,
   "metadata": {
    "execution": {
     "iopub.execute_input": "2025-08-14T22:01:29.641497Z",
     "iopub.status.busy": "2025-08-14T22:01:29.641149Z",
     "iopub.status.idle": "2025-08-14T22:01:29.646650Z",
     "shell.execute_reply": "2025-08-14T22:01:29.645444Z",
     "shell.execute_reply.started": "2025-08-14T22:01:29.641476Z"
    },
    "trusted": true
   },
   "outputs": [
    {
     "name": "stdout",
     "output_type": "stream",
     "text": [
      "[[1 2]\n",
      " [3 4]]\n"
     ]
    }
   ],
   "source": [
    "print(a)"
   ]
  },
  {
   "cell_type": "markdown",
   "metadata": {},
   "source": [
    "All Markdown blocks correspond to the code above them; only the headings are exceptions."
   ]
  },
  {
   "cell_type": "markdown",
   "metadata": {},
   "source": [
    "# Dtype and Dimensions"
   ]
  },
  {
   "cell_type": "code",
   "execution_count": 4,
   "metadata": {
    "execution": {
     "iopub.execute_input": "2025-08-14T22:01:29.647970Z",
     "iopub.status.busy": "2025-08-14T22:01:29.647671Z",
     "iopub.status.idle": "2025-08-14T22:01:29.653791Z",
     "shell.execute_reply": "2025-08-14T22:01:29.652788Z",
     "shell.execute_reply.started": "2025-08-14T22:01:29.647950Z"
    },
    "trusted": true
   },
   "outputs": [
    {
     "data": {
      "text/plain": [
       "dtype('int32')"
      ]
     },
     "execution_count": 4,
     "metadata": {},
     "output_type": "execute_result"
    }
   ],
   "source": [
    "a.dtype # shows the type the array holds "
   ]
  },
  {
   "cell_type": "code",
   "execution_count": 5,
   "metadata": {
    "execution": {
     "iopub.execute_input": "2025-08-14T22:01:29.656856Z",
     "iopub.status.busy": "2025-08-14T22:01:29.656506Z",
     "iopub.status.idle": "2025-08-14T22:01:29.663009Z",
     "shell.execute_reply": "2025-08-14T22:01:29.661858Z",
     "shell.execute_reply.started": "2025-08-14T22:01:29.656829Z"
    },
    "trusted": true
   },
   "outputs": [
    {
     "data": {
      "text/plain": [
       "2"
      ]
     },
     "execution_count": 5,
     "metadata": {},
     "output_type": "execute_result"
    }
   ],
   "source": [
    "a.ndim # shows how many dimensions the array has"
   ]
  },
  {
   "cell_type": "markdown",
   "metadata": {},
   "source": [
    "#### *If you want to create a multi-dimensional array (like a 2D array), all the inner arrays must have the same number of elements.*\n",
    "\n",
    "#### *For unequal number of elements just set dtype = object*\n"
   ]
  },
  {
   "cell_type": "code",
   "execution_count": 6,
   "metadata": {
    "execution": {
     "iopub.execute_input": "2025-08-14T22:01:29.664406Z",
     "iopub.status.busy": "2025-08-14T22:01:29.664000Z",
     "iopub.status.idle": "2025-08-14T22:01:29.668948Z",
     "shell.execute_reply": "2025-08-14T22:01:29.668057Z",
     "shell.execute_reply.started": "2025-08-14T22:01:29.664345Z"
    },
    "trusted": true
   },
   "outputs": [],
   "source": [
    "# Example of code that doesn't work when the inner arrays have an unequal number of elements.\n",
    "# b = np.array([[1,2], [1, 2, 3]])\n",
    "# b.ndim"
   ]
  },
  {
   "cell_type": "code",
   "execution_count": 7,
   "metadata": {
    "execution": {
     "iopub.execute_input": "2025-08-14T22:01:29.670130Z",
     "iopub.status.busy": "2025-08-14T22:01:29.669836Z",
     "iopub.status.idle": "2025-08-14T22:01:29.676311Z",
     "shell.execute_reply": "2025-08-14T22:01:29.675452Z",
     "shell.execute_reply.started": "2025-08-14T22:01:29.670104Z"
    },
    "trusted": true
   },
   "outputs": [
    {
     "name": "stdout",
     "output_type": "stream",
     "text": [
      "56\n"
     ]
    }
   ],
   "source": [
    "c = np.array([[[1,2], [54, 56]], [[50, 40], [30, 20]]])\n",
    "print(c[0,1,1]) # Indexes can be listed using commas, one after another"
   ]
  },
  {
   "cell_type": "markdown",
   "metadata": {},
   "source": [
    "# Shape and Size"
   ]
  },
  {
   "cell_type": "code",
   "execution_count": 8,
   "metadata": {
    "execution": {
     "iopub.execute_input": "2025-08-14T22:01:29.677781Z",
     "iopub.status.busy": "2025-08-14T22:01:29.677491Z",
     "iopub.status.idle": "2025-08-14T22:01:29.682336Z",
     "shell.execute_reply": "2025-08-14T22:01:29.681424Z",
     "shell.execute_reply.started": "2025-08-14T22:01:29.677761Z"
    },
    "trusted": true
   },
   "outputs": [
    {
     "name": "stdout",
     "output_type": "stream",
     "text": [
      "(2, 2, 2)\n",
      "2\n"
     ]
    }
   ],
   "source": [
    "print(c.shape)  # Returns a tuple representing the array dimensions: (2D arrays, 1D arrays, elements per 1D array)\n",
    "print(c.shape[0]) # Retrieves the first dimension from the shape tuple (number of 2D arrays)"
   ]
  },
  {
   "cell_type": "code",
   "execution_count": 9,
   "metadata": {
    "execution": {
     "iopub.execute_input": "2025-08-14T22:01:29.683933Z",
     "iopub.status.busy": "2025-08-14T22:01:29.683456Z",
     "iopub.status.idle": "2025-08-14T22:01:29.688910Z",
     "shell.execute_reply": "2025-08-14T22:01:29.688122Z",
     "shell.execute_reply.started": "2025-08-14T22:01:29.683905Z"
    },
    "trusted": true
   },
   "outputs": [
    {
     "data": {
      "text/plain": [
       "8"
      ]
     },
     "execution_count": 9,
     "metadata": {},
     "output_type": "execute_result"
    }
   ],
   "source": [
    "c.size # shows how many elements are in the whole array"
   ]
  },
  {
   "cell_type": "markdown",
   "metadata": {},
   "source": [
    "# Arrange, Random, and Reshape"
   ]
  },
  {
   "cell_type": "code",
   "execution_count": 10,
   "metadata": {
    "execution": {
     "iopub.execute_input": "2025-08-14T22:01:29.690012Z",
     "iopub.status.busy": "2025-08-14T22:01:29.689785Z",
     "iopub.status.idle": "2025-08-14T22:01:29.697263Z",
     "shell.execute_reply": "2025-08-14T22:01:29.695998Z",
     "shell.execute_reply.started": "2025-08-14T22:01:29.689994Z"
    },
    "trusted": true
   },
   "outputs": [
    {
     "data": {
      "text/plain": [
       "array([20, 21, 22, 23, 24, 25, 26, 27, 28, 29, 30, 31, 32, 33, 34, 35, 36,\n",
       "       37, 38, 39, 40, 41, 42, 43, 44, 45, 46, 47, 48, 49, 50, 51, 52, 53,\n",
       "       54, 55, 56, 57, 58, 59, 60, 61, 62, 63, 64, 65, 66, 67, 68, 69, 70,\n",
       "       71, 72, 73, 74, 75, 76, 77, 78, 79, 80, 81, 82, 83, 84, 85, 86, 87,\n",
       "       88, 89, 90, 91, 92, 93, 94, 95, 96, 97, 98, 99])"
      ]
     },
     "execution_count": 10,
     "metadata": {},
     "output_type": "execute_result"
    }
   ],
   "source": [
    "a = np.arange(20, 100) # create an array with values from a to b-1  [or just from 0 to a, if b not given]\n",
    "a"
   ]
  },
  {
   "cell_type": "code",
   "execution_count": 11,
   "metadata": {
    "execution": {
     "iopub.execute_input": "2025-08-14T22:01:29.698683Z",
     "iopub.status.busy": "2025-08-14T22:01:29.698448Z",
     "iopub.status.idle": "2025-08-14T22:01:29.704739Z",
     "shell.execute_reply": "2025-08-14T22:01:29.703681Z",
     "shell.execute_reply.started": "2025-08-14T22:01:29.698665Z"
    },
    "trusted": true
   },
   "outputs": [
    {
     "data": {
      "text/plain": [
       "array([20, 23, 26, 29, 32, 35, 38, 41, 44, 47, 50, 53, 56, 59, 62, 65, 68,\n",
       "       71, 74, 77, 80, 83, 86, 89, 92, 95, 98])"
      ]
     },
     "execution_count": 11,
     "metadata": {},
     "output_type": "execute_result"
    }
   ],
   "source": [
    "a = np.arange(20, 100, 3) # can make it with a jump of three\n",
    "a"
   ]
  },
  {
   "cell_type": "code",
   "execution_count": 12,
   "metadata": {
    "execution": {
     "iopub.execute_input": "2025-08-14T22:01:29.708896Z",
     "iopub.status.busy": "2025-08-14T22:01:29.708211Z",
     "iopub.status.idle": "2025-08-14T22:01:29.714039Z",
     "shell.execute_reply": "2025-08-14T22:01:29.713157Z",
     "shell.execute_reply.started": "2025-08-14T22:01:29.708865Z"
    },
    "trusted": true
   },
   "outputs": [
    {
     "data": {
      "text/plain": [
       "array([20, 65, 59, 47, 35, 62, 44, 23, 50, 86, 80, 53, 26, 98, 41, 56, 68,\n",
       "       74, 83, 89, 92, 77, 38, 32, 29, 95, 71])"
      ]
     },
     "execution_count": 12,
     "metadata": {},
     "output_type": "execute_result"
    }
   ],
   "source": [
    "b = np.random.permutation(a) # rearranges all values in a random fashion\n",
    "b"
   ]
  },
  {
   "cell_type": "markdown",
   "metadata": {},
   "source": [
    "#### *Can create random numbers on .random with .rand() or .randn()*\n",
    "\n",
    "#### *Can use np.zeros and np.ones to create arrays with zeroes or ones* "
   ]
  },
  {
   "cell_type": "code",
   "execution_count": 13,
   "metadata": {
    "execution": {
     "iopub.execute_input": "2025-08-14T22:01:29.715470Z",
     "iopub.status.busy": "2025-08-14T22:01:29.715057Z",
     "iopub.status.idle": "2025-08-14T22:01:29.721855Z",
     "shell.execute_reply": "2025-08-14T22:01:29.720899Z",
     "shell.execute_reply.started": "2025-08-14T22:01:29.715438Z"
    },
    "trusted": true
   },
   "outputs": [
    {
     "data": {
      "text/plain": [
       "array([[ 0,  1,  2,  3,  4,  5,  6,  7,  8,  9, 10, 11, 12, 13, 14, 15,\n",
       "        16, 17, 18, 19, 20, 21, 22, 23, 24],\n",
       "       [25, 26, 27, 28, 29, 30, 31, 32, 33, 34, 35, 36, 37, 38, 39, 40,\n",
       "        41, 42, 43, 44, 45, 46, 47, 48, 49],\n",
       "       [50, 51, 52, 53, 54, 55, 56, 57, 58, 59, 60, 61, 62, 63, 64, 65,\n",
       "        66, 67, 68, 69, 70, 71, 72, 73, 74],\n",
       "       [75, 76, 77, 78, 79, 80, 81, 82, 83, 84, 85, 86, 87, 88, 89, 90,\n",
       "        91, 92, 93, 94, 95, 96, 97, 98, 99]])"
      ]
     },
     "execution_count": 13,
     "metadata": {},
     "output_type": "execute_result"
    }
   ],
   "source": [
    "c = np.arange(100).reshape(4, 25) # makes the array into a 2-dimensional array with 4 subarrays, with 25 elements each.\n",
    "c"
   ]
  },
  {
   "cell_type": "markdown",
   "metadata": {},
   "source": [
    "# Slicing and Sorting\n",
    "\n",
    "#### *When you create a slice from something, the slice doesn’t make a copy of the data. Instead, it points to the same memory location as the original. This means that if you modify the slice, you’re also changing the original data.*"
   ]
  },
  {
   "cell_type": "code",
   "execution_count": 14,
   "metadata": {
    "execution": {
     "iopub.execute_input": "2025-08-14T22:01:29.722958Z",
     "iopub.status.busy": "2025-08-14T22:01:29.722731Z",
     "iopub.status.idle": "2025-08-14T22:01:29.729520Z",
     "shell.execute_reply": "2025-08-14T22:01:29.728568Z",
     "shell.execute_reply.started": "2025-08-14T22:01:29.722935Z"
    },
    "trusted": true
   },
   "outputs": [
    {
     "name": "stdout",
     "output_type": "stream",
     "text": [
      "[3 4 5 6 7 8 9]\n",
      "[ 0  5 10 15 20 25 30 35 40 45 50 55 60 65 70 75 80 85 90 95]\n",
      "[99 94 89 84 79 74 69 64 59 54 49 44 39 34 29 24 19 14  9  4]\n",
      "\n",
      "[[ 7.  4.]\n",
      " [ 2.  9.]\n",
      " [ 8. 10.]\n",
      " [10.  1.]\n",
      " [ 9.  0.]]\n",
      "[[ 2.  9.]\n",
      " [ 8. 10.]]\n"
     ]
    }
   ],
   "source": [
    "D = np.arange(100)\n",
    "\n",
    "print(D[3:10]) ## from 3 to 9\n",
    "\n",
    "print(D[::5]) ## every fifth element\n",
    "\n",
    "print(D[::-5]) ## every fifth element from the end \n",
    "\n",
    "\n",
    "print()\n",
    "\n",
    "\n",
    "E = np.round(10*np.random.rand(5,4))\n",
    "\n",
    "print(E[:, 1:3]) ## returns a submatrix with all rows and sliced columns\n",
    "\n",
    "print(E[1:3, 1:3]) ## returns a submatrix with slicing"
   ]
  },
  {
   "cell_type": "markdown",
   "metadata": {},
   "source": [
    "#### *[::5] means “take every 5th element from start to end, without specifying a start or end index.\"*\n",
    "\n",
    "#### *\":\" means everything*"
   ]
  },
  {
   "cell_type": "code",
   "execution_count": 15,
   "metadata": {
    "execution": {
     "iopub.execute_input": "2025-08-14T22:01:29.730955Z",
     "iopub.status.busy": "2025-08-14T22:01:29.730699Z",
     "iopub.status.idle": "2025-08-14T22:01:29.736817Z",
     "shell.execute_reply": "2025-08-14T22:01:29.735800Z",
     "shell.execute_reply.started": "2025-08-14T22:01:29.730938Z"
    },
    "trusted": true
   },
   "outputs": [
    {
     "name": "stdout",
     "output_type": "stream",
     "text": [
      "[[ 7.  7.  4.  4.]\n",
      " [ 2.  2.  9.  6.]\n",
      " [ 6.  8. 10.  4.]\n",
      " [ 6. 10.  1.  4.]\n",
      " [ 3.  9.  0.  6.]]\n",
      "\n",
      "[[ 7.  2.  6.  6.  3.]\n",
      " [ 7.  2.  8. 10.  9.]\n",
      " [ 4.  9. 10.  1.  0.]\n",
      " [ 4.  6.  4.  4.  6.]]\n"
     ]
    }
   ],
   "source": [
    "print(E)\n",
    "\n",
    "print()\n",
    "\n",
    "print(E.T) ## creates a transpose"
   ]
  },
  {
   "cell_type": "code",
   "execution_count": 16,
   "metadata": {
    "execution": {
     "iopub.execute_input": "2025-08-14T22:01:29.738142Z",
     "iopub.status.busy": "2025-08-14T22:01:29.737898Z",
     "iopub.status.idle": "2025-08-14T22:01:29.744001Z",
     "shell.execute_reply": "2025-08-14T22:01:29.743045Z",
     "shell.execute_reply.started": "2025-08-14T22:01:29.738124Z"
    },
    "trusted": true
   },
   "outputs": [
    {
     "data": {
      "text/plain": [
       "array([[ 2.,  2.,  0.,  4.],\n",
       "       [ 3.,  7.,  1.,  4.],\n",
       "       [ 6.,  8.,  4.,  4.],\n",
       "       [ 6.,  9.,  9.,  6.],\n",
       "       [ 7., 10., 10.,  6.]])"
      ]
     },
     "execution_count": 16,
     "metadata": {},
     "output_type": "execute_result"
    }
   ],
   "source": [
    "E.sort(axis=0) ## sorts the columns with axis = 1, it sorts the rows (affects the original array, works for more dimensions)\n",
    "E"
   ]
  },
  {
   "cell_type": "markdown",
   "metadata": {},
   "source": [
    "#### *.sort() can be used on 1-dimensional arrays, just don't give it an axis.*"
   ]
  },
  {
   "cell_type": "markdown",
   "metadata": {},
   "source": [
    "# Masking and Broadcasting\n",
    "\n",
    "#### *Makes a copy of the data, so it doesn't change the original*"
   ]
  },
  {
   "cell_type": "code",
   "execution_count": 50,
   "metadata": {
    "execution": {
     "iopub.execute_input": "2025-08-14T22:01:29.745705Z",
     "iopub.status.busy": "2025-08-14T22:01:29.745190Z",
     "iopub.status.idle": "2025-08-14T22:01:29.751713Z",
     "shell.execute_reply": "2025-08-14T22:01:29.750627Z",
     "shell.execute_reply.started": "2025-08-14T22:01:29.745671Z"
    },
    "trusted": true
   },
   "outputs": [
    {
     "name": "stdout",
     "output_type": "stream",
     "text": [
      "[20 23 24]\n",
      "[20 22]\n",
      "[20 21 22]\n"
     ]
    }
   ],
   "source": [
    "F = np.arange(20, 25)\n",
    "\n",
    "## using indexing with double [] -> F[index_array]\n",
    "print(F[[0, 3, 4]]) ## can get specific indexes\n",
    "\n",
    "print(F[[True, False, True, False, False]]) ## use True/False list to filter data, returns only True positions.\n",
    "\n",
    "## using conditions F[F<8]\n",
    "print(F[F<23]) ## filters all that are below 23"
   ]
  },
  {
   "cell_type": "markdown",
   "metadata": {},
   "source": [
    "#### *Can use &, 'and' in the conditions. & - used for arrays, 'and' used for single objects.*"
   ]
  },
  {
   "cell_type": "code",
   "execution_count": 18,
   "metadata": {
    "execution": {
     "iopub.execute_input": "2025-08-14T22:03:01.263142Z",
     "iopub.status.busy": "2025-08-14T22:03:01.262278Z",
     "iopub.status.idle": "2025-08-14T22:03:01.268945Z",
     "shell.execute_reply": "2025-08-14T22:03:01.267887Z",
     "shell.execute_reply.started": "2025-08-14T22:03:01.263113Z"
    },
    "trusted": true
   },
   "outputs": [
    {
     "name": "stdout",
     "output_type": "stream",
     "text": [
      "[[45 46 47 48 49 50 51 52 53 54]\n",
      " [55 56 57 58 59 60 61 62 63 64]]\n",
      "\n",
      "[[ 2  3  4 14 15 16]\n",
      " [ 5  6  7 17 18 19]]\n",
      "\n",
      "[[ 2  3  4]\n",
      " [ 5  6  7]\n",
      " [14 15 16]\n",
      " [17 18 19]]\n"
     ]
    }
   ],
   "source": [
    "G = np.arange(40, 60).reshape(2, 10)\n",
    "print(G + 5) ## adds five to all columns of the matrix, for any dimensional matrix (can even add arrays this way)\n",
    "\n",
    "Z = np.arange(2, 8).reshape(2, 3)\n",
    "W = np.arange(14, 20).reshape(2, 3)\n",
    "\n",
    "print()\n",
    "\n",
    "print(np.hstack((Z,W))) ## concats two arrays horizontally\n",
    "\n",
    "print()\n",
    "\n",
    "print(np.vstack((Z,W))) ## concats two arrays vertically"
   ]
  },
  {
   "cell_type": "markdown",
   "metadata": {},
   "source": [
    "#### *Can use .concatenate() for joining on existing axis*"
   ]
  },
  {
   "cell_type": "code",
   "execution_count": 19,
   "metadata": {
    "execution": {
     "iopub.execute_input": "2025-08-15T14:51:37.990544Z",
     "iopub.status.busy": "2025-08-15T14:51:37.990227Z",
     "iopub.status.idle": "2025-08-15T14:51:37.995130Z",
     "shell.execute_reply": "2025-08-15T14:51:37.994126Z",
     "shell.execute_reply.started": "2025-08-15T14:51:37.990520Z"
    },
    "trusted": true
   },
   "outputs": [],
   "source": [
    "import pandas as pd"
   ]
  },
  {
   "cell_type": "markdown",
   "metadata": {},
   "source": [
    "# Pandas Series and DataFrames"
   ]
  },
  {
   "cell_type": "code",
   "execution_count": 20,
   "metadata": {
    "execution": {
     "iopub.execute_input": "2025-08-15T14:52:34.527815Z",
     "iopub.status.busy": "2025-08-15T14:52:34.527469Z",
     "iopub.status.idle": "2025-08-15T14:52:34.535195Z",
     "shell.execute_reply": "2025-08-15T14:52:34.533785Z",
     "shell.execute_reply.started": "2025-08-15T14:52:34.527782Z"
    },
    "trusted": true
   },
   "outputs": [
    {
     "name": "stdout",
     "output_type": "stream",
     "text": [
      "a    1\n",
      "b    2\n",
      "c    3\n",
      "d    4\n",
      "e    5\n",
      "dtype: int64\n"
     ]
    }
   ],
   "source": [
    "A = pd.Series([1,2,3,4,5], index=[\"a\", \"b\", \"c\", \"d\", \"e\"]) ## just an array, can make custom indexes\n",
    "print(A)"
   ]
  },
  {
   "cell_type": "code",
   "execution_count": 21,
   "metadata": {
    "execution": {
     "iopub.execute_input": "2025-08-15T14:52:51.682411Z",
     "iopub.status.busy": "2025-08-15T14:52:51.682065Z",
     "iopub.status.idle": "2025-08-15T14:52:51.690119Z",
     "shell.execute_reply": "2025-08-15T14:52:51.688949Z",
     "shell.execute_reply.started": "2025-08-15T14:52:51.682386Z"
    },
    "trusted": true
   },
   "outputs": [
    {
     "name": "stdout",
     "output_type": "stream",
     "text": [
      "[1 2 3 4 5]\n",
      "Index(['a', 'b', 'c', 'd', 'e'], dtype='object')\n"
     ]
    }
   ],
   "source": [
    "print(A.values)\n",
    "print(A.index)"
   ]
  },
  {
   "cell_type": "markdown",
   "metadata": {},
   "source": [
    "#### *For explicit indexing, it includes the final element too. (indexing works the same as numpy)*\n",
    "\n",
    "#### *Can create a series with a dictionary, just pass it to pd.Series()*"
   ]
  },
  {
   "cell_type": "code",
   "execution_count": 22,
   "metadata": {
    "execution": {
     "iopub.execute_input": "2025-08-15T15:11:01.333745Z",
     "iopub.status.busy": "2025-08-15T15:11:01.333426Z",
     "iopub.status.idle": "2025-08-15T15:11:01.347263Z",
     "shell.execute_reply": "2025-08-15T15:11:01.346025Z",
     "shell.execute_reply.started": "2025-08-15T15:11:01.333696Z"
    },
    "trusted": true
   },
   "outputs": [
    {
     "name": "stdout",
     "output_type": "stream",
     "text": [
      "   A    B\n",
      "a  1   10\n",
      "b  2   15\n",
      "c  3   25\n",
      "d  4   35\n",
      "e  5  600\n",
      "\n",
      "    a   b   c   d    e\n",
      "A   1   2   3   4    5\n",
      "B  10  15  25  35  600\n"
     ]
    }
   ],
   "source": [
    "A = pd.Series([1,2,3,4,5], index=[\"a\", \"b\", \"c\", \"d\", \"e\"]) \n",
    "B = pd.Series([10, 15, 25, 35, 600], index=[\"a\", \"b\", \"c\", \"d\", \"e\"])\n",
    "\n",
    "C = pd.DataFrame({\"A\": A, \"B\": B}) ## use for multidimensional array     [key -> column, value -> populates the column]\n",
    "print(C)\n",
    "\n",
    "print()\n",
    "\n",
    "print(C.T)"
   ]
  },
  {
   "cell_type": "code",
   "execution_count": 23,
   "metadata": {},
   "outputs": [
    {
     "name": "stdout",
     "output_type": "stream",
     "text": [
      "[[  1  10]\n",
      " [  2  15]\n",
      " [  3  25]\n",
      " [  4  35]\n",
      " [  5 600]]\n",
      "Index(['a', 'b', 'c', 'd', 'e'], dtype='object')\n",
      "3\n",
      "Index(['A', 'B'], dtype='object')\n",
      "a    0.111111\n",
      "b    0.166667\n",
      "c    0.277778\n",
      "d    0.388889\n",
      "e    6.666667\n",
      "Name: D, dtype: float64\n"
     ]
    }
   ],
   "source": [
    "print(C.values)\n",
    "print(C.index)\n",
    "\n",
    "print(C.values[2, 0]) ## use .values for slicing \n",
    "\n",
    "print(C.columns)\n",
    "\n",
    "C['D'] = C['B'] / 90 ## create a new column like in dictionaries. \n",
    "print(C['D'])\n",
    "\n",
    "del C[\"D\"] ## delete like in dictionaries."
   ]
  },
  {
   "cell_type": "markdown",
   "metadata": {},
   "source": [
    "# Missing values and using .loc, .iloc"
   ]
  },
  {
   "cell_type": "code",
   "execution_count": 24,
   "metadata": {},
   "outputs": [
    {
     "data": {
      "text/html": [
       "<div>\n",
       "<style scoped>\n",
       "    .dataframe tbody tr th:only-of-type {\n",
       "        vertical-align: middle;\n",
       "    }\n",
       "\n",
       "    .dataframe tbody tr th {\n",
       "        vertical-align: top;\n",
       "    }\n",
       "\n",
       "    .dataframe thead th {\n",
       "        text-align: right;\n",
       "    }\n",
       "</style>\n",
       "<table border=\"1\" class=\"dataframe\">\n",
       "  <thead>\n",
       "    <tr style=\"text-align: right;\">\n",
       "      <th></th>\n",
       "      <th>a</th>\n",
       "      <th>b</th>\n",
       "      <th>c</th>\n",
       "    </tr>\n",
       "  </thead>\n",
       "  <tbody>\n",
       "    <tr>\n",
       "      <th>0</th>\n",
       "      <td>1.0</td>\n",
       "      <td>4</td>\n",
       "      <td>NaN</td>\n",
       "    </tr>\n",
       "    <tr>\n",
       "      <th>1</th>\n",
       "      <td>NaN</td>\n",
       "      <td>-3</td>\n",
       "      <td>9.0</td>\n",
       "    </tr>\n",
       "  </tbody>\n",
       "</table>\n",
       "</div>"
      ],
      "text/plain": [
       "     a  b    c\n",
       "0  1.0  4  NaN\n",
       "1  NaN -3  9.0"
      ]
     },
     "execution_count": 24,
     "metadata": {},
     "output_type": "execute_result"
    }
   ],
   "source": [
    "D = pd.DataFrame([{'a': 1, \"b\": 4}, {'b': -3, \"c\": 9}])\n",
    "D"
   ]
  },
  {
   "cell_type": "code",
   "execution_count": 25,
   "metadata": {},
   "outputs": [
    {
     "data": {
      "text/html": [
       "<div>\n",
       "<style scoped>\n",
       "    .dataframe tbody tr th:only-of-type {\n",
       "        vertical-align: middle;\n",
       "    }\n",
       "\n",
       "    .dataframe tbody tr th {\n",
       "        vertical-align: top;\n",
       "    }\n",
       "\n",
       "    .dataframe thead th {\n",
       "        text-align: right;\n",
       "    }\n",
       "</style>\n",
       "<table border=\"1\" class=\"dataframe\">\n",
       "  <thead>\n",
       "    <tr style=\"text-align: right;\">\n",
       "      <th></th>\n",
       "      <th>a</th>\n",
       "      <th>b</th>\n",
       "      <th>c</th>\n",
       "    </tr>\n",
       "  </thead>\n",
       "  <tbody>\n",
       "    <tr>\n",
       "      <th>0</th>\n",
       "      <td>1.0</td>\n",
       "      <td>4</td>\n",
       "      <td>2.0</td>\n",
       "    </tr>\n",
       "    <tr>\n",
       "      <th>1</th>\n",
       "      <td>2.0</td>\n",
       "      <td>-3</td>\n",
       "      <td>9.0</td>\n",
       "    </tr>\n",
       "  </tbody>\n",
       "</table>\n",
       "</div>"
      ],
      "text/plain": [
       "     a  b    c\n",
       "0  1.0  4  2.0\n",
       "1  2.0 -3  9.0"
      ]
     },
     "execution_count": 25,
     "metadata": {},
     "output_type": "execute_result"
    }
   ],
   "source": [
    "D = D.fillna(2) ## fills with fixed values\n",
    "\n",
    "D = D.dropna(axis=1) ## deletes columns/rows if NaN in them \n",
    "D"
   ]
  },
  {
   "cell_type": "code",
   "execution_count": 26,
   "metadata": {},
   "outputs": [
    {
     "name": "stdout",
     "output_type": "stream",
     "text": [
      "b\n",
      "a\n",
      "\n",
      "c\n",
      "Error!\n",
      "\n",
      "0    b\n",
      "5    c\n",
      "dtype: object\n",
      "3    a\n",
      "0    b\n",
      "5    c\n",
      "dtype: object\n"
     ]
    }
   ],
   "source": [
    "data = pd.Series([\"a\", \"b\", \"c\"], index=[3,0,5])\n",
    "\n",
    "print(data.loc[0])\n",
    "print(data.iloc[0])\n",
    "\n",
    "print()\n",
    "\n",
    "print(data.loc[5])\n",
    "try:\n",
    "    print(data.iloc[5])\n",
    "except:\n",
    "    print(\"Error!\")\n",
    "\n",
    "print()\n",
    "\n",
    "print(data.loc[0:5])\n",
    "print(data.iloc[0:5])"
   ]
  },
  {
   "cell_type": "markdown",
   "metadata": {},
   "source": [
    "#### *Use .loc for explicit indexing, and .iloc for implicit indexing (explicit --> created by you)*\n",
    "\n",
    "#### *By default pandas uses implicit indexing*"
   ]
  },
  {
   "cell_type": "markdown",
   "metadata": {},
   "source": [
    "# Pandas Exercise"
   ]
  },
  {
   "cell_type": "code",
   "execution_count": 27,
   "metadata": {},
   "outputs": [],
   "source": [
    "from sklearn.impute import SimpleImputer"
   ]
  },
  {
   "cell_type": "code",
   "execution_count": 28,
   "metadata": {},
   "outputs": [],
   "source": [
    "covid_csv  = pd.read_csv(\"./CSV\\'s/covid_19_data.csv\")"
   ]
  },
  {
   "cell_type": "code",
   "execution_count": null,
   "metadata": {},
   "outputs": [
    {
     "data": {
      "text/html": [
       "<div>\n",
       "<style scoped>\n",
       "    .dataframe tbody tr th:only-of-type {\n",
       "        vertical-align: middle;\n",
       "    }\n",
       "\n",
       "    .dataframe tbody tr th {\n",
       "        vertical-align: top;\n",
       "    }\n",
       "\n",
       "    .dataframe thead th {\n",
       "        text-align: right;\n",
       "    }\n",
       "</style>\n",
       "<table border=\"1\" class=\"dataframe\">\n",
       "  <thead>\n",
       "    <tr style=\"text-align: right;\">\n",
       "      <th></th>\n",
       "      <th>SNo</th>\n",
       "      <th>ObservationDate</th>\n",
       "      <th>Province/State</th>\n",
       "      <th>Country/Region</th>\n",
       "      <th>Last Update</th>\n",
       "      <th>Confirmed</th>\n",
       "      <th>Deaths</th>\n",
       "      <th>Recovered</th>\n",
       "    </tr>\n",
       "  </thead>\n",
       "  <tbody>\n",
       "    <tr>\n",
       "      <th>0</th>\n",
       "      <td>1</td>\n",
       "      <td>01/22/2020</td>\n",
       "      <td>Anhui</td>\n",
       "      <td>Mainland China</td>\n",
       "      <td>1/22/2020 17:00</td>\n",
       "      <td>1.0</td>\n",
       "      <td>0.0</td>\n",
       "      <td>0.0</td>\n",
       "    </tr>\n",
       "    <tr>\n",
       "      <th>1</th>\n",
       "      <td>2</td>\n",
       "      <td>01/22/2020</td>\n",
       "      <td>Beijing</td>\n",
       "      <td>Mainland China</td>\n",
       "      <td>1/22/2020 17:00</td>\n",
       "      <td>14.0</td>\n",
       "      <td>0.0</td>\n",
       "      <td>0.0</td>\n",
       "    </tr>\n",
       "    <tr>\n",
       "      <th>2</th>\n",
       "      <td>3</td>\n",
       "      <td>01/22/2020</td>\n",
       "      <td>Chongqing</td>\n",
       "      <td>Mainland China</td>\n",
       "      <td>1/22/2020 17:00</td>\n",
       "      <td>6.0</td>\n",
       "      <td>0.0</td>\n",
       "      <td>0.0</td>\n",
       "    </tr>\n",
       "    <tr>\n",
       "      <th>3</th>\n",
       "      <td>4</td>\n",
       "      <td>01/22/2020</td>\n",
       "      <td>Fujian</td>\n",
       "      <td>Mainland China</td>\n",
       "      <td>1/22/2020 17:00</td>\n",
       "      <td>1.0</td>\n",
       "      <td>0.0</td>\n",
       "      <td>0.0</td>\n",
       "    </tr>\n",
       "    <tr>\n",
       "      <th>4</th>\n",
       "      <td>5</td>\n",
       "      <td>01/22/2020</td>\n",
       "      <td>Gansu</td>\n",
       "      <td>Mainland China</td>\n",
       "      <td>1/22/2020 17:00</td>\n",
       "      <td>0.0</td>\n",
       "      <td>0.0</td>\n",
       "      <td>0.0</td>\n",
       "    </tr>\n",
       "    <tr>\n",
       "      <th>5</th>\n",
       "      <td>6</td>\n",
       "      <td>01/22/2020</td>\n",
       "      <td>Guangdong</td>\n",
       "      <td>Mainland China</td>\n",
       "      <td>1/22/2020 17:00</td>\n",
       "      <td>26.0</td>\n",
       "      <td>0.0</td>\n",
       "      <td>0.0</td>\n",
       "    </tr>\n",
       "    <tr>\n",
       "      <th>6</th>\n",
       "      <td>7</td>\n",
       "      <td>01/22/2020</td>\n",
       "      <td>Guangxi</td>\n",
       "      <td>Mainland China</td>\n",
       "      <td>1/22/2020 17:00</td>\n",
       "      <td>2.0</td>\n",
       "      <td>0.0</td>\n",
       "      <td>0.0</td>\n",
       "    </tr>\n",
       "    <tr>\n",
       "      <th>7</th>\n",
       "      <td>8</td>\n",
       "      <td>01/22/2020</td>\n",
       "      <td>Guizhou</td>\n",
       "      <td>Mainland China</td>\n",
       "      <td>1/22/2020 17:00</td>\n",
       "      <td>1.0</td>\n",
       "      <td>0.0</td>\n",
       "      <td>0.0</td>\n",
       "    </tr>\n",
       "    <tr>\n",
       "      <th>8</th>\n",
       "      <td>9</td>\n",
       "      <td>01/22/2020</td>\n",
       "      <td>Hainan</td>\n",
       "      <td>Mainland China</td>\n",
       "      <td>1/22/2020 17:00</td>\n",
       "      <td>4.0</td>\n",
       "      <td>0.0</td>\n",
       "      <td>0.0</td>\n",
       "    </tr>\n",
       "    <tr>\n",
       "      <th>9</th>\n",
       "      <td>10</td>\n",
       "      <td>01/22/2020</td>\n",
       "      <td>Hebei</td>\n",
       "      <td>Mainland China</td>\n",
       "      <td>1/22/2020 17:00</td>\n",
       "      <td>1.0</td>\n",
       "      <td>0.0</td>\n",
       "      <td>0.0</td>\n",
       "    </tr>\n",
       "  </tbody>\n",
       "</table>\n",
       "</div>"
      ],
      "text/plain": [
       "   SNo ObservationDate Province/State  Country/Region      Last Update  \\\n",
       "0    1      01/22/2020          Anhui  Mainland China  1/22/2020 17:00   \n",
       "1    2      01/22/2020        Beijing  Mainland China  1/22/2020 17:00   \n",
       "2    3      01/22/2020      Chongqing  Mainland China  1/22/2020 17:00   \n",
       "3    4      01/22/2020         Fujian  Mainland China  1/22/2020 17:00   \n",
       "4    5      01/22/2020          Gansu  Mainland China  1/22/2020 17:00   \n",
       "5    6      01/22/2020      Guangdong  Mainland China  1/22/2020 17:00   \n",
       "6    7      01/22/2020        Guangxi  Mainland China  1/22/2020 17:00   \n",
       "7    8      01/22/2020        Guizhou  Mainland China  1/22/2020 17:00   \n",
       "8    9      01/22/2020         Hainan  Mainland China  1/22/2020 17:00   \n",
       "9   10      01/22/2020          Hebei  Mainland China  1/22/2020 17:00   \n",
       "\n",
       "   Confirmed  Deaths  Recovered  \n",
       "0        1.0     0.0        0.0  \n",
       "1       14.0     0.0        0.0  \n",
       "2        6.0     0.0        0.0  \n",
       "3        1.0     0.0        0.0  \n",
       "4        0.0     0.0        0.0  \n",
       "5       26.0     0.0        0.0  \n",
       "6        2.0     0.0        0.0  \n",
       "7        1.0     0.0        0.0  \n",
       "8        4.0     0.0        0.0  \n",
       "9        1.0     0.0        0.0  "
      ]
     },
     "execution_count": 30,
     "metadata": {},
     "output_type": "execute_result"
    }
   ],
   "source": [
    "covid_csv.head(10) ## shows the top n from the dataset"
   ]
  },
  {
   "cell_type": "code",
   "execution_count": 35,
   "metadata": {},
   "outputs": [
    {
     "data": {
      "text/plain": [
       "(306429, 8)"
      ]
     },
     "execution_count": 35,
     "metadata": {},
     "output_type": "execute_result"
    }
   ],
   "source": [
    "covid_csv.shape"
   ]
  },
  {
   "cell_type": "code",
   "execution_count": null,
   "metadata": {},
   "outputs": [
    {
     "name": "stdout",
     "output_type": "stream",
     "text": [
      "Index(['SNo', 'ObservationDate', 'Province/State', 'Country/Region',\n",
      "       'Last Update', 'Confirmed', 'Deaths', 'Recovered'],\n",
      "      dtype='object')\n",
      "SNo                  int64\n",
      "ObservationDate     object\n",
      "Province/State      object\n",
      "Country/Region      object\n",
      "Last Update         object\n",
      "Confirmed          float64\n",
      "Deaths             float64\n",
      "Recovered          float64\n",
      "dtype: object\n"
     ]
    }
   ],
   "source": [
    "print(covid_csv.columns)\n",
    "print(covid_csv.dtypes)"
   ]
  },
  {
   "cell_type": "code",
   "execution_count": null,
   "metadata": {},
   "outputs": [
    {
     "name": "stdout",
     "output_type": "stream",
     "text": [
      "SNo                False\n",
      "ObservationDate    False\n",
      "Province/State      True\n",
      "Country/Region     False\n",
      "Last Update        False\n",
      "Confirmed          False\n",
      "Deaths             False\n",
      "Recovered          False\n",
      "dtype: bool\n",
      "\n",
      "SNo                    0\n",
      "ObservationDate        0\n",
      "Province/State     78103\n",
      "Country/Region         0\n",
      "Last Update            0\n",
      "Confirmed              0\n",
      "Deaths                 0\n",
      "Recovered              0\n",
      "dtype: int64\n"
     ]
    }
   ],
   "source": [
    "print(covid_csv.isna().any()) ## check if there are any NaN fields in each column\n",
    "\n",
    "print()\n",
    "\n",
    "print(covid_csv.isna().sum()) ## gets the sum for NaN from the columns"
   ]
  },
  {
   "cell_type": "code",
   "execution_count": 162,
   "metadata": {},
   "outputs": [
    {
     "name": "stdout",
     "output_type": "stream",
     "text": [
      "306429\n",
      "2036.4032679674574\n",
      "112385.0\n",
      "-178.0\n",
      "\n",
      "13.0\n",
      "192.0\n",
      "1322.0\n",
      "\n",
      "6410.9380477066725\n",
      "                 SNo     Confirmed         Deaths     Recovered\n",
      "count  306429.000000  3.064290e+05  306429.000000  3.064290e+05\n",
      "mean   153215.000000  8.567091e+04    2036.403268  5.042029e+04\n",
      "std     88458.577156  2.775516e+05    6410.938048  2.015124e+05\n",
      "min         1.000000 -3.028440e+05    -178.000000 -8.544050e+05\n",
      "25%     76608.000000  1.042000e+03      13.000000  1.100000e+01\n",
      "50%    153215.000000  1.037500e+04     192.000000  1.751000e+03\n",
      "75%    229822.000000  5.075200e+04    1322.000000  2.027000e+04\n",
      "max    306429.000000  5.863138e+06  112385.000000  6.399531e+06\n"
     ]
    }
   ],
   "source": [
    "print(covid_csv[\"Deaths\"].count())\n",
    "\n",
    "print(covid_csv[\"Deaths\"].mean())\n",
    "\n",
    "print(covid_csv[\"Deaths\"].max())\n",
    "\n",
    "print(covid_csv[\"Deaths\"].min())\n",
    "\n",
    "print() \n",
    "\n",
    "## .quantile() manual approach\n",
    "# percentage = 0.25\n",
    "# sorted_deaths = covid_csv[\"Deaths\"].sort_values().reset_index(drop=True)\n",
    "# below_index = covid_csv[\"Deaths\"].count() * percentage\n",
    "# lower = sorted_deaths[round(below_index)]\n",
    "# upper = sorted_deaths[round(below_index) + 1]\n",
    "# calculating = lower + percentage * (upper - lower)\n",
    "# print(calculating)\n",
    "\n",
    "#.quantile(percentage) --> tells the number that n% of the data is below\n",
    "print(covid_csv[\"Deaths\"].quantile(0.25)) \n",
    "\n",
    "print(covid_csv['Deaths'].quantile(0.5))\n",
    "\n",
    "print(covid_csv[\"Deaths\"].quantile(0.75))\n",
    "\n",
    "print()\n",
    "\n",
    "## .std() manual approach\n",
    "# mean = covid_csv[\"Deaths\"].mean()\n",
    "# sqr_differences = (covid_csv[\"Deaths\"] - mean) ** 2\n",
    "# variance = sqr_differences.mean()\n",
    "# std = variance ** 0.5\n",
    "\n",
    "## shows the average distance that data points are from the mean [standard deviation]\n",
    "print(covid_csv[\"Deaths\"].std())\n",
    "\n",
    "\n",
    "## Can just use .describe()\n",
    "print(covid_csv.describe())\n",
    "\n",
    "## It's good to do these for all numeric fields"
   ]
  },
  {
   "cell_type": "markdown",
   "metadata": {},
   "source": [
    "#### *Use sort_values() not sort() for Series*\n",
    "\n",
    "#### *Use reset_index(drop=True) when you want to create a new sequential index*"
   ]
  }
 ],
 "metadata": {
  "kaggle": {
   "accelerator": "none",
   "dataSources": [],
   "dockerImageVersionId": 31089,
   "isGpuEnabled": false,
   "isInternetEnabled": true,
   "language": "python",
   "sourceType": "notebook"
  },
  "kernelspec": {
   "display_name": "venv (3.13.5)",
   "language": "python",
   "name": "python3"
  },
  "language_info": {
   "codemirror_mode": {
    "name": "ipython",
    "version": 3
   },
   "file_extension": ".py",
   "mimetype": "text/x-python",
   "name": "python",
   "nbconvert_exporter": "python",
   "pygments_lexer": "ipython3",
   "version": "3.13.5"
  }
 },
 "nbformat": 4,
 "nbformat_minor": 4
}
