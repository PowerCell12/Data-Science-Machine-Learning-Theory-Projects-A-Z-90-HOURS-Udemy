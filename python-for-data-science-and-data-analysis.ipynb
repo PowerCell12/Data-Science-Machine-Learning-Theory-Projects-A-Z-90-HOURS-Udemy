{
 "cells": [
  {
   "cell_type": "code",
   "execution_count": 86,
   "metadata": {
    "execution": {
     "iopub.execute_input": "2025-08-14T22:01:29.628733Z",
     "iopub.status.busy": "2025-08-14T22:01:29.628034Z",
     "iopub.status.idle": "2025-08-14T22:01:29.633344Z",
     "shell.execute_reply": "2025-08-14T22:01:29.632420Z",
     "shell.execute_reply.started": "2025-08-14T22:01:29.628698Z"
    },
    "trusted": true
   },
   "outputs": [],
   "source": [
    "import numpy as np\n",
    "import numpy.linalg as la ## used for linear algebra things like inverse matrix, etc."
   ]
  },
  {
   "cell_type": "code",
   "execution_count": 87,
   "metadata": {
    "execution": {
     "iopub.execute_input": "2025-08-14T22:01:29.635725Z",
     "iopub.status.busy": "2025-08-14T22:01:29.634968Z",
     "iopub.status.idle": "2025-08-14T22:01:29.640272Z",
     "shell.execute_reply": "2025-08-14T22:01:29.639025Z",
     "shell.execute_reply.started": "2025-08-14T22:01:29.635693Z"
    },
    "trusted": true
   },
   "outputs": [],
   "source": [
    "a = np.array([[1,2], [3,4]], dtype=\"i\") "
   ]
  },
  {
   "cell_type": "code",
   "execution_count": 88,
   "metadata": {
    "execution": {
     "iopub.execute_input": "2025-08-14T22:01:29.641497Z",
     "iopub.status.busy": "2025-08-14T22:01:29.641149Z",
     "iopub.status.idle": "2025-08-14T22:01:29.646650Z",
     "shell.execute_reply": "2025-08-14T22:01:29.645444Z",
     "shell.execute_reply.started": "2025-08-14T22:01:29.641476Z"
    },
    "trusted": true
   },
   "outputs": [
    {
     "name": "stdout",
     "output_type": "stream",
     "text": [
      "[[1 2]\n",
      " [3 4]]\n"
     ]
    }
   ],
   "source": [
    "print(a)"
   ]
  },
  {
   "cell_type": "markdown",
   "metadata": {},
   "source": [
    "All Markdown blocks correspond to the code above them; only the headings are exceptions."
   ]
  },
  {
   "cell_type": "markdown",
   "metadata": {},
   "source": [
    "# Dtype and Dimensions"
   ]
  },
  {
   "cell_type": "code",
   "execution_count": 89,
   "metadata": {
    "execution": {
     "iopub.execute_input": "2025-08-14T22:01:29.647970Z",
     "iopub.status.busy": "2025-08-14T22:01:29.647671Z",
     "iopub.status.idle": "2025-08-14T22:01:29.653791Z",
     "shell.execute_reply": "2025-08-14T22:01:29.652788Z",
     "shell.execute_reply.started": "2025-08-14T22:01:29.647950Z"
    },
    "trusted": true
   },
   "outputs": [
    {
     "data": {
      "text/plain": [
       "dtype('int32')"
      ]
     },
     "execution_count": 89,
     "metadata": {},
     "output_type": "execute_result"
    }
   ],
   "source": [
    "a.dtype # shows the type the array holds "
   ]
  },
  {
   "cell_type": "code",
   "execution_count": 90,
   "metadata": {
    "execution": {
     "iopub.execute_input": "2025-08-14T22:01:29.656856Z",
     "iopub.status.busy": "2025-08-14T22:01:29.656506Z",
     "iopub.status.idle": "2025-08-14T22:01:29.663009Z",
     "shell.execute_reply": "2025-08-14T22:01:29.661858Z",
     "shell.execute_reply.started": "2025-08-14T22:01:29.656829Z"
    },
    "trusted": true
   },
   "outputs": [
    {
     "data": {
      "text/plain": [
       "2"
      ]
     },
     "execution_count": 90,
     "metadata": {},
     "output_type": "execute_result"
    }
   ],
   "source": [
    "a.ndim # shows how many dimensions the array has"
   ]
  },
  {
   "cell_type": "markdown",
   "metadata": {},
   "source": [
    "#### *If you want to create a multi-dimensional array (like a 2D array), all the inner arrays must have the same number of elements.*\n",
    "\n",
    "#### *For unequal number of elements just set dtype = object*\n"
   ]
  },
  {
   "cell_type": "code",
   "execution_count": 91,
   "metadata": {
    "execution": {
     "iopub.execute_input": "2025-08-14T22:01:29.664406Z",
     "iopub.status.busy": "2025-08-14T22:01:29.664000Z",
     "iopub.status.idle": "2025-08-14T22:01:29.668948Z",
     "shell.execute_reply": "2025-08-14T22:01:29.668057Z",
     "shell.execute_reply.started": "2025-08-14T22:01:29.664345Z"
    },
    "trusted": true
   },
   "outputs": [],
   "source": [
    "# Example of code that doesn't work when the inner arrays have an unequal number of elements.\n",
    "# b = np.array([[1,2], [1, 2, 3]])\n",
    "# b.ndim"
   ]
  },
  {
   "cell_type": "code",
   "execution_count": 92,
   "metadata": {
    "execution": {
     "iopub.execute_input": "2025-08-14T22:01:29.670130Z",
     "iopub.status.busy": "2025-08-14T22:01:29.669836Z",
     "iopub.status.idle": "2025-08-14T22:01:29.676311Z",
     "shell.execute_reply": "2025-08-14T22:01:29.675452Z",
     "shell.execute_reply.started": "2025-08-14T22:01:29.670104Z"
    },
    "trusted": true
   },
   "outputs": [
    {
     "name": "stdout",
     "output_type": "stream",
     "text": [
      "56\n"
     ]
    }
   ],
   "source": [
    "c = np.array([[[1,2], [54, 56]], [[50, 40], [30, 20]]])\n",
    "print(c[0,1,1]) # Indexes can be listed using commas, one after another"
   ]
  },
  {
   "cell_type": "markdown",
   "metadata": {},
   "source": [
    "# Shape and Size"
   ]
  },
  {
   "cell_type": "code",
   "execution_count": 93,
   "metadata": {
    "execution": {
     "iopub.execute_input": "2025-08-14T22:01:29.677781Z",
     "iopub.status.busy": "2025-08-14T22:01:29.677491Z",
     "iopub.status.idle": "2025-08-14T22:01:29.682336Z",
     "shell.execute_reply": "2025-08-14T22:01:29.681424Z",
     "shell.execute_reply.started": "2025-08-14T22:01:29.677761Z"
    },
    "trusted": true
   },
   "outputs": [
    {
     "name": "stdout",
     "output_type": "stream",
     "text": [
      "(2, 2, 2)\n",
      "2\n"
     ]
    }
   ],
   "source": [
    "print(c.shape)  # Returns a tuple representing the array dimensions: (2D arrays, 1D arrays, elements per 1D array)\n",
    "print(c.shape[0]) # Retrieves the first dimension from the shape tuple (number of 2D arrays)"
   ]
  },
  {
   "cell_type": "code",
   "execution_count": 94,
   "metadata": {
    "execution": {
     "iopub.execute_input": "2025-08-14T22:01:29.683933Z",
     "iopub.status.busy": "2025-08-14T22:01:29.683456Z",
     "iopub.status.idle": "2025-08-14T22:01:29.688910Z",
     "shell.execute_reply": "2025-08-14T22:01:29.688122Z",
     "shell.execute_reply.started": "2025-08-14T22:01:29.683905Z"
    },
    "trusted": true
   },
   "outputs": [
    {
     "data": {
      "text/plain": [
       "8"
      ]
     },
     "execution_count": 94,
     "metadata": {},
     "output_type": "execute_result"
    }
   ],
   "source": [
    "c.size # shows how many elements are in the whole array"
   ]
  },
  {
   "cell_type": "markdown",
   "metadata": {},
   "source": [
    "# Arrange, Random, and Reshape"
   ]
  },
  {
   "cell_type": "code",
   "execution_count": 95,
   "metadata": {
    "execution": {
     "iopub.execute_input": "2025-08-14T22:01:29.690012Z",
     "iopub.status.busy": "2025-08-14T22:01:29.689785Z",
     "iopub.status.idle": "2025-08-14T22:01:29.697263Z",
     "shell.execute_reply": "2025-08-14T22:01:29.695998Z",
     "shell.execute_reply.started": "2025-08-14T22:01:29.689994Z"
    },
    "trusted": true
   },
   "outputs": [
    {
     "data": {
      "text/plain": [
       "array([20, 21, 22, 23, 24, 25, 26, 27, 28, 29, 30, 31, 32, 33, 34, 35, 36,\n",
       "       37, 38, 39, 40, 41, 42, 43, 44, 45, 46, 47, 48, 49, 50, 51, 52, 53,\n",
       "       54, 55, 56, 57, 58, 59, 60, 61, 62, 63, 64, 65, 66, 67, 68, 69, 70,\n",
       "       71, 72, 73, 74, 75, 76, 77, 78, 79, 80, 81, 82, 83, 84, 85, 86, 87,\n",
       "       88, 89, 90, 91, 92, 93, 94, 95, 96, 97, 98, 99])"
      ]
     },
     "execution_count": 95,
     "metadata": {},
     "output_type": "execute_result"
    }
   ],
   "source": [
    "a = np.arange(20, 100) # create an array with values from a to b-1  [or just from 0 to a, if b not given]\n",
    "a"
   ]
  },
  {
   "cell_type": "code",
   "execution_count": 96,
   "metadata": {
    "execution": {
     "iopub.execute_input": "2025-08-14T22:01:29.698683Z",
     "iopub.status.busy": "2025-08-14T22:01:29.698448Z",
     "iopub.status.idle": "2025-08-14T22:01:29.704739Z",
     "shell.execute_reply": "2025-08-14T22:01:29.703681Z",
     "shell.execute_reply.started": "2025-08-14T22:01:29.698665Z"
    },
    "trusted": true
   },
   "outputs": [
    {
     "data": {
      "text/plain": [
       "array([20, 23, 26, 29, 32, 35, 38, 41, 44, 47, 50, 53, 56, 59, 62, 65, 68,\n",
       "       71, 74, 77, 80, 83, 86, 89, 92, 95, 98])"
      ]
     },
     "execution_count": 96,
     "metadata": {},
     "output_type": "execute_result"
    }
   ],
   "source": [
    "a = np.arange(20, 100, 3) # can make it with a jump of three\n",
    "a"
   ]
  },
  {
   "cell_type": "code",
   "execution_count": 97,
   "metadata": {
    "execution": {
     "iopub.execute_input": "2025-08-14T22:01:29.708896Z",
     "iopub.status.busy": "2025-08-14T22:01:29.708211Z",
     "iopub.status.idle": "2025-08-14T22:01:29.714039Z",
     "shell.execute_reply": "2025-08-14T22:01:29.713157Z",
     "shell.execute_reply.started": "2025-08-14T22:01:29.708865Z"
    },
    "trusted": true
   },
   "outputs": [
    {
     "data": {
      "text/plain": [
       "array([53, 92, 59, 23, 32, 89, 83, 38, 74, 29, 68, 47, 20, 56, 65, 50, 86,\n",
       "       98, 71, 41, 80, 77, 35, 26, 44, 62, 95])"
      ]
     },
     "execution_count": 97,
     "metadata": {},
     "output_type": "execute_result"
    }
   ],
   "source": [
    "b = np.random.permutation(a) # rearranges all values in a random fashion\n",
    "b"
   ]
  },
  {
   "cell_type": "markdown",
   "metadata": {},
   "source": [
    "#### *Can create random numbers on .random with .rand() or .randn()*\n",
    "\n",
    "#### *Can use np.zeros and np.ones to create arrays with zeroes or ones* "
   ]
  },
  {
   "cell_type": "code",
   "execution_count": 98,
   "metadata": {
    "execution": {
     "iopub.execute_input": "2025-08-14T22:01:29.715470Z",
     "iopub.status.busy": "2025-08-14T22:01:29.715057Z",
     "iopub.status.idle": "2025-08-14T22:01:29.721855Z",
     "shell.execute_reply": "2025-08-14T22:01:29.720899Z",
     "shell.execute_reply.started": "2025-08-14T22:01:29.715438Z"
    },
    "trusted": true
   },
   "outputs": [
    {
     "data": {
      "text/plain": [
       "array([[ 0,  1,  2,  3,  4,  5,  6,  7,  8,  9, 10, 11, 12, 13, 14, 15,\n",
       "        16, 17, 18, 19, 20, 21, 22, 23, 24],\n",
       "       [25, 26, 27, 28, 29, 30, 31, 32, 33, 34, 35, 36, 37, 38, 39, 40,\n",
       "        41, 42, 43, 44, 45, 46, 47, 48, 49],\n",
       "       [50, 51, 52, 53, 54, 55, 56, 57, 58, 59, 60, 61, 62, 63, 64, 65,\n",
       "        66, 67, 68, 69, 70, 71, 72, 73, 74],\n",
       "       [75, 76, 77, 78, 79, 80, 81, 82, 83, 84, 85, 86, 87, 88, 89, 90,\n",
       "        91, 92, 93, 94, 95, 96, 97, 98, 99]])"
      ]
     },
     "execution_count": 98,
     "metadata": {},
     "output_type": "execute_result"
    }
   ],
   "source": [
    "c = np.arange(100).reshape(4, 25) # makes the array into a 2-dimensional array with 4 subarrays, with 25 elements each.\n",
    "c"
   ]
  },
  {
   "cell_type": "markdown",
   "metadata": {},
   "source": [
    "# Slicing and Sorting\n",
    "\n",
    "#### *When you create a slice from something, the slice doesn’t make a copy of the data. Instead, it points to the same memory location as the original. This means that if you modify the slice, you’re also changing the original data.*"
   ]
  },
  {
   "cell_type": "code",
   "execution_count": 99,
   "metadata": {
    "execution": {
     "iopub.execute_input": "2025-08-14T22:01:29.722958Z",
     "iopub.status.busy": "2025-08-14T22:01:29.722731Z",
     "iopub.status.idle": "2025-08-14T22:01:29.729520Z",
     "shell.execute_reply": "2025-08-14T22:01:29.728568Z",
     "shell.execute_reply.started": "2025-08-14T22:01:29.722935Z"
    },
    "trusted": true
   },
   "outputs": [
    {
     "name": "stdout",
     "output_type": "stream",
     "text": [
      "[3 4 5 6 7 8 9]\n",
      "[ 0  5 10 15 20 25 30 35 40 45 50 55 60 65 70 75 80 85 90 95]\n",
      "[99 94 89 84 79 74 69 64 59 54 49 44 39 34 29 24 19 14  9  4]\n",
      "\n",
      "[[2. 7.]\n",
      " [6. 2.]\n",
      " [8. 9.]\n",
      " [9. 4.]\n",
      " [4. 9.]]\n",
      "[[6. 2.]\n",
      " [8. 9.]]\n"
     ]
    }
   ],
   "source": [
    "D = np.arange(100)\n",
    "\n",
    "print(D[3:10]) ## from 3 to 9\n",
    "\n",
    "print(D[::5]) ## every fifth element\n",
    "\n",
    "print(D[::-5]) ## every fifth element from the end \n",
    "\n",
    "\n",
    "print()\n",
    "\n",
    "\n",
    "E = np.round(10*np.random.rand(5,4))\n",
    "\n",
    "print(E[:, 1:3]) ## returns a submatrix with all rows and sliced columns\n",
    "\n",
    "print(E[1:3, 1:3]) ## returns a submatrix with slicing"
   ]
  },
  {
   "cell_type": "markdown",
   "metadata": {},
   "source": [
    "#### *[::5] means “take every 5th element from start to end, without specifying a start or end index.\"*\n",
    "\n",
    "#### *\":\" means everything*"
   ]
  },
  {
   "cell_type": "code",
   "execution_count": 100,
   "metadata": {
    "execution": {
     "iopub.execute_input": "2025-08-14T22:01:29.730955Z",
     "iopub.status.busy": "2025-08-14T22:01:29.730699Z",
     "iopub.status.idle": "2025-08-14T22:01:29.736817Z",
     "shell.execute_reply": "2025-08-14T22:01:29.735800Z",
     "shell.execute_reply.started": "2025-08-14T22:01:29.730938Z"
    },
    "trusted": true
   },
   "outputs": [
    {
     "name": "stdout",
     "output_type": "stream",
     "text": [
      "[[ 2.  2.  7.  4.]\n",
      " [ 2.  6.  2.  8.]\n",
      " [ 6.  8.  9.  6.]\n",
      " [ 6.  9.  4.  9.]\n",
      " [10.  4.  9.  9.]]\n",
      "\n",
      "[[ 2.  2.  6.  6. 10.]\n",
      " [ 2.  6.  8.  9.  4.]\n",
      " [ 7.  2.  9.  4.  9.]\n",
      " [ 4.  8.  6.  9.  9.]]\n"
     ]
    }
   ],
   "source": [
    "print(E)\n",
    "\n",
    "print()\n",
    "\n",
    "print(E.T) ## creates a transpose"
   ]
  },
  {
   "cell_type": "code",
   "execution_count": 101,
   "metadata": {
    "execution": {
     "iopub.execute_input": "2025-08-14T22:01:29.738142Z",
     "iopub.status.busy": "2025-08-14T22:01:29.737898Z",
     "iopub.status.idle": "2025-08-14T22:01:29.744001Z",
     "shell.execute_reply": "2025-08-14T22:01:29.743045Z",
     "shell.execute_reply.started": "2025-08-14T22:01:29.738124Z"
    },
    "trusted": true
   },
   "outputs": [
    {
     "data": {
      "text/plain": [
       "array([[ 2.,  2.,  2.,  4.],\n",
       "       [ 2.,  4.,  4.,  6.],\n",
       "       [ 6.,  6.,  7.,  8.],\n",
       "       [ 6.,  8.,  9.,  9.],\n",
       "       [10.,  9.,  9.,  9.]])"
      ]
     },
     "execution_count": 101,
     "metadata": {},
     "output_type": "execute_result"
    }
   ],
   "source": [
    "E.sort(axis=0) ## sorts the columns with axis = 1, it sorts the rows (affects the original array, works for more dimensions)\n",
    "E"
   ]
  },
  {
   "cell_type": "markdown",
   "metadata": {},
   "source": [
    "#### *.sort() can be used on 1-dimensional arrays, just don't give it an axis.*"
   ]
  },
  {
   "cell_type": "markdown",
   "metadata": {},
   "source": [
    "# Masking and Broadcasting\n",
    "\n",
    "#### *Makes a copy of the data, so it doesn't change the original*"
   ]
  },
  {
   "cell_type": "code",
   "execution_count": 102,
   "metadata": {
    "execution": {
     "iopub.execute_input": "2025-08-14T22:01:29.745705Z",
     "iopub.status.busy": "2025-08-14T22:01:29.745190Z",
     "iopub.status.idle": "2025-08-14T22:01:29.751713Z",
     "shell.execute_reply": "2025-08-14T22:01:29.750627Z",
     "shell.execute_reply.started": "2025-08-14T22:01:29.745671Z"
    },
    "trusted": true
   },
   "outputs": [
    {
     "name": "stdout",
     "output_type": "stream",
     "text": [
      "[20 23 24]\n",
      "[20 22]\n",
      "[20 21 22]\n"
     ]
    }
   ],
   "source": [
    "F = np.arange(20, 25)\n",
    "\n",
    "## using indexing with double [] -> F[index_array]\n",
    "print(F[[0, 3, 4]]) ## can get specific indexes\n",
    "\n",
    "print(F[[True, False, True, False, False]]) ## use True/False list to filter data, returns only True positions.\n",
    "\n",
    "## using conditions F[F<8]\n",
    "print(F[F<23]) ## filters all that are below 23"
   ]
  },
  {
   "cell_type": "markdown",
   "metadata": {},
   "source": [
    "#### *Can use &, 'and' in the conditions. & - used for arrays, 'and' used for single objects.*"
   ]
  },
  {
   "cell_type": "code",
   "execution_count": 103,
   "metadata": {
    "execution": {
     "iopub.execute_input": "2025-08-14T22:03:01.263142Z",
     "iopub.status.busy": "2025-08-14T22:03:01.262278Z",
     "iopub.status.idle": "2025-08-14T22:03:01.268945Z",
     "shell.execute_reply": "2025-08-14T22:03:01.267887Z",
     "shell.execute_reply.started": "2025-08-14T22:03:01.263113Z"
    },
    "trusted": true
   },
   "outputs": [
    {
     "name": "stdout",
     "output_type": "stream",
     "text": [
      "[[45 46 47 48 49 50 51 52 53 54]\n",
      " [55 56 57 58 59 60 61 62 63 64]]\n",
      "\n",
      "[[ 2  3  4 14 15 16]\n",
      " [ 5  6  7 17 18 19]]\n",
      "\n",
      "[[ 2  3  4]\n",
      " [ 5  6  7]\n",
      " [14 15 16]\n",
      " [17 18 19]]\n"
     ]
    }
   ],
   "source": [
    "G = np.arange(40, 60).reshape(2, 10)\n",
    "print(G + 5) ## adds five to all columns of the matrix, for any dimensional matrix (can even add arrays this way)\n",
    "\n",
    "Z = np.arange(2, 8).reshape(2, 3)\n",
    "W = np.arange(14, 20).reshape(2, 3)\n",
    "\n",
    "print()\n",
    "\n",
    "print(np.hstack((Z,W))) ## concats two arrays horizontally\n",
    "\n",
    "print()\n",
    "\n",
    "print(np.vstack((Z,W))) ## concats two arrays vertically"
   ]
  },
  {
   "cell_type": "markdown",
   "metadata": {},
   "source": [
    "#### *Can use .concatenate() for joining on existing axis*"
   ]
  },
  {
   "cell_type": "code",
   "execution_count": 104,
   "metadata": {
    "execution": {
     "iopub.execute_input": "2025-08-15T14:51:37.990544Z",
     "iopub.status.busy": "2025-08-15T14:51:37.990227Z",
     "iopub.status.idle": "2025-08-15T14:51:37.995130Z",
     "shell.execute_reply": "2025-08-15T14:51:37.994126Z",
     "shell.execute_reply.started": "2025-08-15T14:51:37.990520Z"
    },
    "trusted": true
   },
   "outputs": [],
   "source": [
    "import pandas as pd"
   ]
  },
  {
   "cell_type": "markdown",
   "metadata": {},
   "source": [
    "# Pandas Series and DataFrames"
   ]
  },
  {
   "cell_type": "code",
   "execution_count": 105,
   "metadata": {
    "execution": {
     "iopub.execute_input": "2025-08-15T14:52:34.527815Z",
     "iopub.status.busy": "2025-08-15T14:52:34.527469Z",
     "iopub.status.idle": "2025-08-15T14:52:34.535195Z",
     "shell.execute_reply": "2025-08-15T14:52:34.533785Z",
     "shell.execute_reply.started": "2025-08-15T14:52:34.527782Z"
    },
    "trusted": true
   },
   "outputs": [
    {
     "name": "stdout",
     "output_type": "stream",
     "text": [
      "a    1\n",
      "b    2\n",
      "c    3\n",
      "d    4\n",
      "e    5\n",
      "dtype: int64\n"
     ]
    }
   ],
   "source": [
    "A = pd.Series([1,2,3,4,5], index=[\"a\", \"b\", \"c\", \"d\", \"e\"]) ## just an array, can make custom indexes\n",
    "print(A)"
   ]
  },
  {
   "cell_type": "code",
   "execution_count": 106,
   "metadata": {
    "execution": {
     "iopub.execute_input": "2025-08-15T14:52:51.682411Z",
     "iopub.status.busy": "2025-08-15T14:52:51.682065Z",
     "iopub.status.idle": "2025-08-15T14:52:51.690119Z",
     "shell.execute_reply": "2025-08-15T14:52:51.688949Z",
     "shell.execute_reply.started": "2025-08-15T14:52:51.682386Z"
    },
    "trusted": true
   },
   "outputs": [
    {
     "name": "stdout",
     "output_type": "stream",
     "text": [
      "[1 2 3 4 5]\n",
      "Index(['a', 'b', 'c', 'd', 'e'], dtype='object')\n"
     ]
    }
   ],
   "source": [
    "print(A.values)\n",
    "print(A.index)"
   ]
  },
  {
   "cell_type": "markdown",
   "metadata": {},
   "source": [
    "#### *For explicit indexing, it includes the final element too. (indexing works the same as numpy)*\n",
    "\n",
    "#### *Can create a series with a dictionary, just pass it to pd.Series()*"
   ]
  },
  {
   "cell_type": "code",
   "execution_count": 107,
   "metadata": {
    "execution": {
     "iopub.execute_input": "2025-08-15T15:11:01.333745Z",
     "iopub.status.busy": "2025-08-15T15:11:01.333426Z",
     "iopub.status.idle": "2025-08-15T15:11:01.347263Z",
     "shell.execute_reply": "2025-08-15T15:11:01.346025Z",
     "shell.execute_reply.started": "2025-08-15T15:11:01.333696Z"
    },
    "trusted": true
   },
   "outputs": [
    {
     "name": "stdout",
     "output_type": "stream",
     "text": [
      "   A    B\n",
      "a  1   10\n",
      "b  2   15\n",
      "c  3   25\n",
      "d  4   35\n",
      "e  5  600\n",
      "\n",
      "    a   b   c   d    e\n",
      "A   1   2   3   4    5\n",
      "B  10  15  25  35  600\n"
     ]
    }
   ],
   "source": [
    "A = pd.Series([1,2,3,4,5], index=[\"a\", \"b\", \"c\", \"d\", \"e\"]) \n",
    "B = pd.Series([10, 15, 25, 35, 600], index=[\"a\", \"b\", \"c\", \"d\", \"e\"])\n",
    "\n",
    "C = pd.DataFrame({\"A\": A, \"B\": B}) ## use for multidimensional array     [key -> column, value -> populates the column]\n",
    "print(C)\n",
    "\n",
    "print()\n",
    "\n",
    "print(C.T)"
   ]
  },
  {
   "cell_type": "code",
   "execution_count": 108,
   "metadata": {},
   "outputs": [
    {
     "name": "stdout",
     "output_type": "stream",
     "text": [
      "[[  1  10]\n",
      " [  2  15]\n",
      " [  3  25]\n",
      " [  4  35]\n",
      " [  5 600]]\n",
      "Index(['a', 'b', 'c', 'd', 'e'], dtype='object')\n",
      "3\n",
      "Index(['A', 'B'], dtype='object')\n",
      "a    0.111111\n",
      "b    0.166667\n",
      "c    0.277778\n",
      "d    0.388889\n",
      "e    6.666667\n",
      "Name: D, dtype: float64\n"
     ]
    }
   ],
   "source": [
    "print(C.values)\n",
    "print(C.index)\n",
    "\n",
    "print(C.values[2, 0]) ## use .values for slicing \n",
    "\n",
    "print(C.columns)\n",
    "\n",
    "C['D'] = C['B'] / 90 ## create a new column like in dictionaries. \n",
    "print(C['D'])\n",
    "\n",
    "del C[\"D\"] ## delete like in dictionaries."
   ]
  },
  {
   "cell_type": "markdown",
   "metadata": {},
   "source": [
    "# Missing values and using .loc, .iloc"
   ]
  },
  {
   "cell_type": "code",
   "execution_count": 109,
   "metadata": {},
   "outputs": [
    {
     "data": {
      "text/html": [
       "<div>\n",
       "<style scoped>\n",
       "    .dataframe tbody tr th:only-of-type {\n",
       "        vertical-align: middle;\n",
       "    }\n",
       "\n",
       "    .dataframe tbody tr th {\n",
       "        vertical-align: top;\n",
       "    }\n",
       "\n",
       "    .dataframe thead th {\n",
       "        text-align: right;\n",
       "    }\n",
       "</style>\n",
       "<table border=\"1\" class=\"dataframe\">\n",
       "  <thead>\n",
       "    <tr style=\"text-align: right;\">\n",
       "      <th></th>\n",
       "      <th>a</th>\n",
       "      <th>b</th>\n",
       "      <th>c</th>\n",
       "    </tr>\n",
       "  </thead>\n",
       "  <tbody>\n",
       "    <tr>\n",
       "      <th>0</th>\n",
       "      <td>1.0</td>\n",
       "      <td>4</td>\n",
       "      <td>NaN</td>\n",
       "    </tr>\n",
       "    <tr>\n",
       "      <th>1</th>\n",
       "      <td>NaN</td>\n",
       "      <td>-3</td>\n",
       "      <td>9.0</td>\n",
       "    </tr>\n",
       "  </tbody>\n",
       "</table>\n",
       "</div>"
      ],
      "text/plain": [
       "     a  b    c\n",
       "0  1.0  4  NaN\n",
       "1  NaN -3  9.0"
      ]
     },
     "execution_count": 109,
     "metadata": {},
     "output_type": "execute_result"
    }
   ],
   "source": [
    "D = pd.DataFrame([{'a': 1, \"b\": 4}, {'b': -3, \"c\": 9}])\n",
    "D"
   ]
  },
  {
   "cell_type": "code",
   "execution_count": 110,
   "metadata": {},
   "outputs": [
    {
     "data": {
      "text/html": [
       "<div>\n",
       "<style scoped>\n",
       "    .dataframe tbody tr th:only-of-type {\n",
       "        vertical-align: middle;\n",
       "    }\n",
       "\n",
       "    .dataframe tbody tr th {\n",
       "        vertical-align: top;\n",
       "    }\n",
       "\n",
       "    .dataframe thead th {\n",
       "        text-align: right;\n",
       "    }\n",
       "</style>\n",
       "<table border=\"1\" class=\"dataframe\">\n",
       "  <thead>\n",
       "    <tr style=\"text-align: right;\">\n",
       "      <th></th>\n",
       "      <th>a</th>\n",
       "      <th>b</th>\n",
       "      <th>c</th>\n",
       "    </tr>\n",
       "  </thead>\n",
       "  <tbody>\n",
       "    <tr>\n",
       "      <th>0</th>\n",
       "      <td>1.0</td>\n",
       "      <td>4</td>\n",
       "      <td>2.0</td>\n",
       "    </tr>\n",
       "    <tr>\n",
       "      <th>1</th>\n",
       "      <td>2.0</td>\n",
       "      <td>-3</td>\n",
       "      <td>9.0</td>\n",
       "    </tr>\n",
       "  </tbody>\n",
       "</table>\n",
       "</div>"
      ],
      "text/plain": [
       "     a  b    c\n",
       "0  1.0  4  2.0\n",
       "1  2.0 -3  9.0"
      ]
     },
     "execution_count": 110,
     "metadata": {},
     "output_type": "execute_result"
    }
   ],
   "source": [
    "D = D.fillna(2) ## fills with fixed values\n",
    "\n",
    "D = D.dropna(axis=1) ## deletes columns/rows if NaN in them \n",
    "D"
   ]
  },
  {
   "cell_type": "code",
   "execution_count": 111,
   "metadata": {},
   "outputs": [
    {
     "name": "stdout",
     "output_type": "stream",
     "text": [
      "b\n",
      "a\n",
      "\n",
      "c\n",
      "Error!\n",
      "\n",
      "0    b\n",
      "5    c\n",
      "dtype: object\n",
      "3    a\n",
      "0    b\n",
      "5    c\n",
      "dtype: object\n"
     ]
    }
   ],
   "source": [
    "data = pd.Series([\"a\", \"b\", \"c\"], index=[3,0,5])\n",
    "\n",
    "print(data.loc[0])\n",
    "print(data.iloc[0])\n",
    "\n",
    "print()\n",
    "\n",
    "print(data.loc[5])\n",
    "try:\n",
    "    print(data.iloc[5])\n",
    "except:\n",
    "    print(\"Error!\")\n",
    "\n",
    "print()\n",
    "\n",
    "print(data.loc[0:5])\n",
    "print(data.iloc[0:5])"
   ]
  },
  {
   "cell_type": "markdown",
   "metadata": {},
   "source": [
    "#### *Use .loc for explicit indexing, and .iloc for implicit indexing (explicit --> created by you)*\n",
    "\n",
    "#### *By default pandas uses implicit indexing*"
   ]
  },
  {
   "cell_type": "code",
   "execution_count": null,
   "metadata": {},
   "outputs": [],
   "source": []
  }
 ],
 "metadata": {
  "kaggle": {
   "accelerator": "none",
   "dataSources": [],
   "dockerImageVersionId": 31089,
   "isGpuEnabled": false,
   "isInternetEnabled": true,
   "language": "python",
   "sourceType": "notebook"
  },
  "kernelspec": {
   "display_name": "venv (3.13.7)",
   "language": "python",
   "name": "python3"
  },
  "language_info": {
   "codemirror_mode": {
    "name": "ipython",
    "version": 3
   },
   "file_extension": ".py",
   "mimetype": "text/x-python",
   "name": "python",
   "nbconvert_exporter": "python",
   "pygments_lexer": "ipython3",
   "version": "3.13.7"
  }
 },
 "nbformat": 4,
 "nbformat_minor": 4
}
